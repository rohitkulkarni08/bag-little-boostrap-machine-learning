{
 "cells": [
  {
   "cell_type": "code",
   "execution_count": 1,
   "id": "db6d3759",
   "metadata": {
    "id": "db6d3759",
    "tags": []
   },
   "outputs": [],
   "source": [
    "import pandas as pd\n",
    "import numpy as np\n",
    "import seaborn as sns\n",
    "import matplotlib.pyplot as plt\n",
    "\n",
    "from gensim.models import Word2Vec\n",
    "from sklearn.experimental import enable_iterative_imputer\n",
    "from sklearn.impute import IterativeImputer\n",
    "from sklearn.preprocessing import OneHotEncoder, LabelEncoder\n",
    "from scipy.stats.mstats import winsorize\n",
    "\n",
    "from sklearn.linear_model import Ridge, LinearRegression, LogisticRegression\n",
    "from sklearn.svm import SVR, SVC\n",
    "from sklearn.ensemble import RandomForestRegressor, RandomForestClassifier, GradientBoostingClassifier\n",
    "from sklearn.metrics import accuracy_score\n",
    "from sklearn.utils import resample"
   ]
  },
  {
   "cell_type": "code",
   "execution_count": 2,
   "id": "dd800a9a-05f9-4837-88d6-98ef0bab6617",
   "metadata": {
    "tags": []
   },
   "outputs": [
    {
     "name": "stdout",
     "output_type": "stream",
     "text": [
      "Defaulting to user installation because normal site-packages is not writeable\n",
      "Requirement already satisfied: gensim in /common/home/rr1370/.local/lib/python3.10/site-packages (4.3.2)\n",
      "Requirement already satisfied: numpy>=1.18.5 in /common/home/rr1370/.local/lib/python3.10/site-packages (from gensim) (1.26.2)\n",
      "Requirement already satisfied: scipy>=1.7.0 in /common/home/rr1370/.local/lib/python3.10/site-packages (from gensim) (1.10.1)\n",
      "Requirement already satisfied: smart-open>=1.8.1 in /common/home/rr1370/.local/lib/python3.10/site-packages (from gensim) (6.4.0)\n",
      "Note: you may need to restart the kernel to use updated packages.\n"
     ]
    }
   ],
   "source": [
    "pip install gensim"
   ]
  },
  {
   "cell_type": "code",
   "execution_count": 3,
   "id": "063f9699",
   "metadata": {
    "colab": {
     "base_uri": "https://localhost:8080/"
    },
    "id": "063f9699",
    "outputId": "74bff303-b023-4094-c7a5-67a60322b8e8",
    "tags": []
   },
   "outputs": [],
   "source": [
    "df = pd.read_csv('zomato.csv')"
   ]
  },
  {
   "cell_type": "code",
   "execution_count": 4,
   "id": "7d50681e",
   "metadata": {
    "colab": {
     "base_uri": "https://localhost:8080/",
     "height": 564
    },
    "id": "7d50681e",
    "outputId": "2c430780-2047-45f1-ded0-fcace3c294be",
    "tags": []
   },
   "outputs": [
    {
     "data": {
      "text/html": [
       "<div>\n",
       "<style scoped>\n",
       "    .dataframe tbody tr th:only-of-type {\n",
       "        vertical-align: middle;\n",
       "    }\n",
       "\n",
       "    .dataframe tbody tr th {\n",
       "        vertical-align: top;\n",
       "    }\n",
       "\n",
       "    .dataframe thead th {\n",
       "        text-align: right;\n",
       "    }\n",
       "</style>\n",
       "<table border=\"1\" class=\"dataframe\">\n",
       "  <thead>\n",
       "    <tr style=\"text-align: right;\">\n",
       "      <th></th>\n",
       "      <th>url</th>\n",
       "      <th>address</th>\n",
       "      <th>name</th>\n",
       "      <th>online_order</th>\n",
       "      <th>book_table</th>\n",
       "      <th>rate</th>\n",
       "      <th>votes</th>\n",
       "      <th>phone</th>\n",
       "      <th>location</th>\n",
       "      <th>rest_type</th>\n",
       "      <th>dish_liked</th>\n",
       "      <th>cuisines</th>\n",
       "      <th>approx_cost(for two people)</th>\n",
       "      <th>reviews_list</th>\n",
       "      <th>menu_item</th>\n",
       "      <th>listed_in(type)</th>\n",
       "      <th>listed_in(city)</th>\n",
       "    </tr>\n",
       "  </thead>\n",
       "  <tbody>\n",
       "    <tr>\n",
       "      <th>0</th>\n",
       "      <td>https://www.zomato.com/bangalore/jalsa-banasha...</td>\n",
       "      <td>942, 21st Main Road, 2nd Stage, Banashankari, ...</td>\n",
       "      <td>Jalsa</td>\n",
       "      <td>Yes</td>\n",
       "      <td>Yes</td>\n",
       "      <td>4.1/5</td>\n",
       "      <td>775</td>\n",
       "      <td>080 42297555\\r\\n+91 9743772233</td>\n",
       "      <td>Banashankari</td>\n",
       "      <td>Casual Dining</td>\n",
       "      <td>Pasta, Lunch Buffet, Masala Papad, Paneer Laja...</td>\n",
       "      <td>North Indian, Mughlai, Chinese</td>\n",
       "      <td>800</td>\n",
       "      <td>[('Rated 4.0', 'RATED\\n  A beautiful place to ...</td>\n",
       "      <td>[]</td>\n",
       "      <td>Buffet</td>\n",
       "      <td>Banashankari</td>\n",
       "    </tr>\n",
       "    <tr>\n",
       "      <th>1</th>\n",
       "      <td>https://www.zomato.com/bangalore/spice-elephan...</td>\n",
       "      <td>2nd Floor, 80 Feet Road, Near Big Bazaar, 6th ...</td>\n",
       "      <td>Spice Elephant</td>\n",
       "      <td>Yes</td>\n",
       "      <td>No</td>\n",
       "      <td>4.1/5</td>\n",
       "      <td>787</td>\n",
       "      <td>080 41714161</td>\n",
       "      <td>Banashankari</td>\n",
       "      <td>Casual Dining</td>\n",
       "      <td>Momos, Lunch Buffet, Chocolate Nirvana, Thai G...</td>\n",
       "      <td>Chinese, North Indian, Thai</td>\n",
       "      <td>800</td>\n",
       "      <td>[('Rated 4.0', 'RATED\\n  Had been here for din...</td>\n",
       "      <td>[]</td>\n",
       "      <td>Buffet</td>\n",
       "      <td>Banashankari</td>\n",
       "    </tr>\n",
       "    <tr>\n",
       "      <th>2</th>\n",
       "      <td>https://www.zomato.com/SanchurroBangalore?cont...</td>\n",
       "      <td>1112, Next to KIMS Medical College, 17th Cross...</td>\n",
       "      <td>San Churro Cafe</td>\n",
       "      <td>Yes</td>\n",
       "      <td>No</td>\n",
       "      <td>3.8/5</td>\n",
       "      <td>918</td>\n",
       "      <td>+91 9663487993</td>\n",
       "      <td>Banashankari</td>\n",
       "      <td>Cafe, Casual Dining</td>\n",
       "      <td>Churros, Cannelloni, Minestrone Soup, Hot Choc...</td>\n",
       "      <td>Cafe, Mexican, Italian</td>\n",
       "      <td>800</td>\n",
       "      <td>[('Rated 3.0', \"RATED\\n  Ambience is not that ...</td>\n",
       "      <td>[]</td>\n",
       "      <td>Buffet</td>\n",
       "      <td>Banashankari</td>\n",
       "    </tr>\n",
       "    <tr>\n",
       "      <th>3</th>\n",
       "      <td>https://www.zomato.com/bangalore/addhuri-udupi...</td>\n",
       "      <td>1st Floor, Annakuteera, 3rd Stage, Banashankar...</td>\n",
       "      <td>Addhuri Udupi Bhojana</td>\n",
       "      <td>No</td>\n",
       "      <td>No</td>\n",
       "      <td>3.7/5</td>\n",
       "      <td>88</td>\n",
       "      <td>+91 9620009302</td>\n",
       "      <td>Banashankari</td>\n",
       "      <td>Quick Bites</td>\n",
       "      <td>Masala Dosa</td>\n",
       "      <td>South Indian, North Indian</td>\n",
       "      <td>300</td>\n",
       "      <td>[('Rated 4.0', \"RATED\\n  Great food and proper...</td>\n",
       "      <td>[]</td>\n",
       "      <td>Buffet</td>\n",
       "      <td>Banashankari</td>\n",
       "    </tr>\n",
       "    <tr>\n",
       "      <th>4</th>\n",
       "      <td>https://www.zomato.com/bangalore/grand-village...</td>\n",
       "      <td>10, 3rd Floor, Lakshmi Associates, Gandhi Baza...</td>\n",
       "      <td>Grand Village</td>\n",
       "      <td>No</td>\n",
       "      <td>No</td>\n",
       "      <td>3.8/5</td>\n",
       "      <td>166</td>\n",
       "      <td>+91 8026612447\\r\\n+91 9901210005</td>\n",
       "      <td>Basavanagudi</td>\n",
       "      <td>Casual Dining</td>\n",
       "      <td>Panipuri, Gol Gappe</td>\n",
       "      <td>North Indian, Rajasthani</td>\n",
       "      <td>600</td>\n",
       "      <td>[('Rated 4.0', 'RATED\\n  Very good restaurant ...</td>\n",
       "      <td>[]</td>\n",
       "      <td>Buffet</td>\n",
       "      <td>Banashankari</td>\n",
       "    </tr>\n",
       "  </tbody>\n",
       "</table>\n",
       "</div>"
      ],
      "text/plain": [
       "                                                 url  \\\n",
       "0  https://www.zomato.com/bangalore/jalsa-banasha...   \n",
       "1  https://www.zomato.com/bangalore/spice-elephan...   \n",
       "2  https://www.zomato.com/SanchurroBangalore?cont...   \n",
       "3  https://www.zomato.com/bangalore/addhuri-udupi...   \n",
       "4  https://www.zomato.com/bangalore/grand-village...   \n",
       "\n",
       "                                             address                   name  \\\n",
       "0  942, 21st Main Road, 2nd Stage, Banashankari, ...                  Jalsa   \n",
       "1  2nd Floor, 80 Feet Road, Near Big Bazaar, 6th ...         Spice Elephant   \n",
       "2  1112, Next to KIMS Medical College, 17th Cross...        San Churro Cafe   \n",
       "3  1st Floor, Annakuteera, 3rd Stage, Banashankar...  Addhuri Udupi Bhojana   \n",
       "4  10, 3rd Floor, Lakshmi Associates, Gandhi Baza...          Grand Village   \n",
       "\n",
       "  online_order book_table   rate  votes                             phone  \\\n",
       "0          Yes        Yes  4.1/5    775    080 42297555\\r\\n+91 9743772233   \n",
       "1          Yes         No  4.1/5    787                      080 41714161   \n",
       "2          Yes         No  3.8/5    918                    +91 9663487993   \n",
       "3           No         No  3.7/5     88                    +91 9620009302   \n",
       "4           No         No  3.8/5    166  +91 8026612447\\r\\n+91 9901210005   \n",
       "\n",
       "       location            rest_type  \\\n",
       "0  Banashankari        Casual Dining   \n",
       "1  Banashankari        Casual Dining   \n",
       "2  Banashankari  Cafe, Casual Dining   \n",
       "3  Banashankari          Quick Bites   \n",
       "4  Basavanagudi        Casual Dining   \n",
       "\n",
       "                                          dish_liked  \\\n",
       "0  Pasta, Lunch Buffet, Masala Papad, Paneer Laja...   \n",
       "1  Momos, Lunch Buffet, Chocolate Nirvana, Thai G...   \n",
       "2  Churros, Cannelloni, Minestrone Soup, Hot Choc...   \n",
       "3                                        Masala Dosa   \n",
       "4                                Panipuri, Gol Gappe   \n",
       "\n",
       "                         cuisines approx_cost(for two people)  \\\n",
       "0  North Indian, Mughlai, Chinese                         800   \n",
       "1     Chinese, North Indian, Thai                         800   \n",
       "2          Cafe, Mexican, Italian                         800   \n",
       "3      South Indian, North Indian                         300   \n",
       "4        North Indian, Rajasthani                         600   \n",
       "\n",
       "                                        reviews_list menu_item  \\\n",
       "0  [('Rated 4.0', 'RATED\\n  A beautiful place to ...        []   \n",
       "1  [('Rated 4.0', 'RATED\\n  Had been here for din...        []   \n",
       "2  [('Rated 3.0', \"RATED\\n  Ambience is not that ...        []   \n",
       "3  [('Rated 4.0', \"RATED\\n  Great food and proper...        []   \n",
       "4  [('Rated 4.0', 'RATED\\n  Very good restaurant ...        []   \n",
       "\n",
       "  listed_in(type) listed_in(city)  \n",
       "0          Buffet    Banashankari  \n",
       "1          Buffet    Banashankari  \n",
       "2          Buffet    Banashankari  \n",
       "3          Buffet    Banashankari  \n",
       "4          Buffet    Banashankari  "
      ]
     },
     "execution_count": 4,
     "metadata": {},
     "output_type": "execute_result"
    }
   ],
   "source": [
    "df.head()"
   ]
  },
  {
   "cell_type": "code",
   "execution_count": 5,
   "id": "c2f03c2f",
   "metadata": {
    "colab": {
     "base_uri": "https://localhost:8080/"
    },
    "id": "c2f03c2f",
    "outputId": "b8fa3449-701e-4966-8f30-0a3645dbbef9",
    "tags": []
   },
   "outputs": [
    {
     "data": {
      "text/plain": [
       "url                                0\n",
       "address                            0\n",
       "name                               0\n",
       "online_order                       0\n",
       "book_table                         0\n",
       "rate                            7775\n",
       "votes                              0\n",
       "phone                           1208\n",
       "location                          21\n",
       "rest_type                        227\n",
       "dish_liked                     28078\n",
       "cuisines                          45\n",
       "approx_cost(for two people)      346\n",
       "reviews_list                       0\n",
       "menu_item                          0\n",
       "listed_in(type)                    0\n",
       "listed_in(city)                    0\n",
       "dtype: int64"
      ]
     },
     "execution_count": 5,
     "metadata": {},
     "output_type": "execute_result"
    }
   ],
   "source": [
    "df.isna().sum()"
   ]
  },
  {
   "cell_type": "code",
   "execution_count": 6,
   "id": "23335605",
   "metadata": {
    "colab": {
     "base_uri": "https://localhost:8080/"
    },
    "id": "23335605",
    "outputId": "fb79a996-510e-4fcb-f46d-f6c612666155",
    "tags": []
   },
   "outputs": [
    {
     "data": {
      "text/plain": [
       "url                                0\n",
       "address                            0\n",
       "name                               0\n",
       "online_order                       0\n",
       "book_table                         0\n",
       "rate                            7681\n",
       "votes                              0\n",
       "phone                            874\n",
       "location                           0\n",
       "rest_type                        204\n",
       "dish_liked                     27868\n",
       "cuisines                          19\n",
       "approx_cost(for two people)        0\n",
       "reviews_list                       0\n",
       "menu_item                          0\n",
       "listed_in(type)                    0\n",
       "listed_in(city)                    0\n",
       "cost                               0\n",
       "dtype: int64"
      ]
     },
     "execution_count": 6,
     "metadata": {},
     "output_type": "execute_result"
    }
   ],
   "source": [
    "df = df.dropna(subset=['approx_cost(for two people)'])\n",
    "df['cost'] = df['approx_cost(for two people)'].str.replace(',', '').astype(float)\n",
    "\n",
    "df.isna().sum()"
   ]
  },
  {
   "cell_type": "code",
   "execution_count": 7,
   "id": "f72146ac",
   "metadata": {
    "colab": {
     "base_uri": "https://localhost:8080/"
    },
    "id": "f72146ac",
    "outputId": "f50b5768-dd20-4a5b-b380-3750cea2fc41",
    "tags": []
   },
   "outputs": [
    {
     "data": {
      "text/plain": [
       "array(['4.1/5', '3.8/5', '3.7/5', '3.6/5', '4.6/5', '4.0/5', '4.2/5',\n",
       "       '3.9/5', '3.1/5', '3.0/5', '3.2/5', '3.3/5', '2.8/5', '4.4/5',\n",
       "       '4.3/5', 'NEW', '2.9/5', '3.5/5', nan, '2.6/5', '3.8 /5', '3.4/5',\n",
       "       '4.5/5', '2.5/5', '2.7/5', '4.7/5', '2.4/5', '2.2/5', '2.3/5',\n",
       "       '3.4 /5', '-', '3.6 /5', '4.8/5', '3.9 /5', '4.2 /5', '4.0 /5',\n",
       "       '4.1 /5', '3.7 /5', '3.1 /5', '2.9 /5', '3.3 /5', '2.8 /5',\n",
       "       '3.5 /5', '2.7 /5', '2.5 /5', '3.2 /5', '2.6 /5', '4.5 /5',\n",
       "       '4.3 /5', '4.4 /5', '4.9/5', '2.1/5', '2.0/5', '1.8/5', '4.6 /5',\n",
       "       '4.9 /5', '3.0 /5', '4.8 /5', '2.3 /5', '4.7 /5', '2.4 /5',\n",
       "       '2.1 /5', '2.2 /5', '2.0 /5', '1.8 /5'], dtype=object)"
      ]
     },
     "execution_count": 7,
     "metadata": {},
     "output_type": "execute_result"
    }
   ],
   "source": [
    "df['rate'].unique()"
   ]
  },
  {
   "cell_type": "code",
   "execution_count": 8,
   "id": "3d1559ac",
   "metadata": {
    "colab": {
     "base_uri": "https://localhost:8080/"
    },
    "id": "3d1559ac",
    "outputId": "d2dcc413-915c-4f3e-df61-39d3e42a8eea",
    "tags": []
   },
   "outputs": [
    {
     "data": {
      "text/plain": [
       "url                            2272\n",
       "address                        2272\n",
       "name                           2272\n",
       "online_order                   2272\n",
       "book_table                     2272\n",
       "rate                           2272\n",
       "votes                          2272\n",
       "phone                          2259\n",
       "location                       2272\n",
       "rest_type                      2270\n",
       "dish_liked                      147\n",
       "cuisines                       2272\n",
       "approx_cost(for two people)    2272\n",
       "reviews_list                   2272\n",
       "menu_item                      2272\n",
       "listed_in(type)                2272\n",
       "listed_in(city)                2272\n",
       "cost                           2272\n",
       "dtype: int64"
      ]
     },
     "execution_count": 8,
     "metadata": {},
     "output_type": "execute_result"
    }
   ],
   "source": [
    "df.query(\"rate == 'NEW' or rate == '-'\").count()"
   ]
  },
  {
   "cell_type": "code",
   "execution_count": 9,
   "id": "7e15f03b",
   "metadata": {
    "colab": {
     "base_uri": "https://localhost:8080/"
    },
    "id": "7e15f03b",
    "outputId": "6c4a1570-9241-4718-9632-e877ca17812b",
    "tags": []
   },
   "outputs": [],
   "source": [
    "def convert_ratings(rating):\n",
    "    if (rating == 'NEW' or rating == '-'):\n",
    "        return np.nan\n",
    "    else:\n",
    "        return float(str(rating).split('/')[0].strip())\n",
    "\n",
    "df['converted_rating'] = df['rate'].apply(convert_ratings)"
   ]
  },
  {
   "cell_type": "code",
   "execution_count": 10,
   "id": "5217729c",
   "metadata": {
    "colab": {
     "base_uri": "https://localhost:8080/"
    },
    "id": "5217729c",
    "outputId": "9119391f-258a-49fb-e1ad-084c0aec30b4",
    "tags": []
   },
   "outputs": [
    {
     "data": {
      "text/plain": [
       "array([4.1, 3.8, 3.7, 3.6, 4.6, 4. , 4.2, 3.9, 3.1, 3. , 3.2, 3.3, 2.8,\n",
       "       4.4, 4.3, nan, 2.9, 3.5, 2.6, 3.4, 4.5, 2.5, 2.7, 4.7, 2.4, 2.2,\n",
       "       2.3, 4.8, 4.9, 2.1, 2. , 1.8])"
      ]
     },
     "execution_count": 10,
     "metadata": {},
     "output_type": "execute_result"
    }
   ],
   "source": [
    "df['converted_rating'].unique()"
   ]
  },
  {
   "cell_type": "code",
   "execution_count": 11,
   "id": "45718a31",
   "metadata": {
    "colab": {
     "base_uri": "https://localhost:8080/",
     "height": 470
    },
    "id": "45718a31",
    "outputId": "3a74e50b-e2b8-4b2a-b84d-614d4797bea9",
    "tags": []
   },
   "outputs": [
    {
     "data": {
      "image/png": "[encoded data removed]",
      "text/plain": [
       "<Figure size 2400x2200 with 2 Axes>"
      ]
     },
     "metadata": {},
     "output_type": "display_data"
    }
   ],
   "source": [
    "plt.figure(figsize=(24,22))\n",
    "\n",
    "for i, column in enumerate(['online_order','book_table']):\n",
    "    plt.subplot(4,4,i + 1)\n",
    "    sns.countplot(x= df[column], data=df)\n",
    "    plt.title(column)\n",
    "    plt.xlabel('Value')\n",
    "    plt.ylabel('Frequency')"
   ]
  },
  {
   "cell_type": "code",
   "execution_count": 12,
   "id": "51961e27",
   "metadata": {
    "colab": {
     "base_uri": "https://localhost:8080/",
     "height": 504
    },
    "id": "51961e27",
    "outputId": "c94398e3-2383-40b7-a003-fec05f2d9472",
    "tags": []
   },
   "outputs": [
    {
     "data": {
      "text/plain": [
       "Text(0, 0.5, 'Frequency')"
      ]
     },
     "execution_count": 12,
     "metadata": {},
     "output_type": "execute_result"
    },
    {
     "data": {
      "image/png": "[encoded data removed]",
      "text/plain": [
       "<Figure size 1200x500 with 1 Axes>"
      ]
     },
     "metadata": {},
     "output_type": "display_data"
    }
   ],
   "source": [
    "#for i, column in enumerate(['online_order','listed_in(type)','listed_in(city)','book_table']):\n",
    "plt.figure(figsize=(12,5))\n",
    "sns.countplot(x= df['listed_in(type)'], data=df)\n",
    "plt.title('Restaurant Type')\n",
    "plt.xlabel('Value')\n",
    "plt.ylabel('Frequency')"
   ]
  },
  {
   "cell_type": "code",
   "execution_count": 13,
   "id": "f9d80838",
   "metadata": {
    "colab": {
     "base_uri": "https://localhost:8080/",
     "height": 727
    },
    "id": "f9d80838",
    "outputId": "1d905c38-fb0f-43d9-8eed-fe4ef5b8fbda",
    "tags": []
   },
   "outputs": [
    {
     "data": {
      "text/plain": [
       "Text(0, 0.5, 'Frequency')"
      ]
     },
     "execution_count": 13,
     "metadata": {},
     "output_type": "execute_result"
    },
    {
     "data": {
      "image/png": "[encoded data removed]",
      "text/plain": [
       "<Figure size 3000x1500 with 1 Axes>"
      ]
     },
     "metadata": {},
     "output_type": "display_data"
    }
   ],
   "source": [
    "plt.figure(figsize=(30,15))\n",
    "sns.countplot(x= df['listed_in(city)'], data=df)\n",
    "plt.title('Location')\n",
    "plt.xlabel('Value')\n",
    "plt.ylabel('Frequency')"
   ]
  },
  {
   "cell_type": "code",
   "execution_count": 14,
   "id": "c9e91e29",
   "metadata": {
    "colab": {
     "base_uri": "https://localhost:8080/",
     "height": 472
    },
    "id": "c9e91e29",
    "outputId": "cd9393a4-672b-4a95-bd5c-b18dd97c49a0",
    "tags": []
   },
   "outputs": [
    {
     "data": {
      "image/png": "[encoded data removed]",
      "text/plain": [
       "<Figure size 640x480 with 1 Axes>"
      ]
     },
     "metadata": {},
     "output_type": "display_data"
    }
   ],
   "source": [
    "sns.histplot(data=df,x='converted_rating',bins=10,kde=True)\n",
    "plt.title('Histogram of Rating')\n",
    "plt.xlabel('Rating')\n",
    "plt.show()"
   ]
  },
  {
   "cell_type": "code",
   "execution_count": 15,
   "id": "5bd9c463",
   "metadata": {
    "colab": {
     "base_uri": "https://localhost:8080/",
     "height": 410
    },
    "id": "5bd9c463",
    "outputId": "c5e9c23d-9a6f-4484-973a-d77b2657f773",
    "tags": []
   },
   "outputs": [
    {
     "data": {
      "image/png": "[encoded data removed]",
      "text/plain": [
       "<Figure size 1000x400 with 1 Axes>"
      ]
     },
     "metadata": {},
     "output_type": "display_data"
    }
   ],
   "source": [
    "plt.figure(figsize=(10,4))\n",
    "sns.boxplot(x= df['cost'])\n",
    "plt.title('Boxplot of Cost')\n",
    "plt.xlabel('Cost')\n",
    "plt.show()"
   ]
  },
  {
   "cell_type": "code",
   "execution_count": 16,
   "id": "c8eb096f",
   "metadata": {
    "colab": {
     "base_uri": "https://localhost:8080/"
    },
    "id": "c8eb096f",
    "outputId": "753eed50-3d73-4c2e-d690-f801696ca9de",
    "tags": []
   },
   "outputs": [
    {
     "name": "stdout",
     "output_type": "stream",
     "text": [
      "The skewness of the price distribution is: 2.601983456428953\n"
     ]
    }
   ],
   "source": [
    "skewness = df['cost'].skew()\n",
    "print(f\"The skewness of the price distribution is: {skewness}\")"
   ]
  },
  {
   "cell_type": "code",
   "execution_count": 17,
   "id": "002fc292",
   "metadata": {
    "colab": {
     "base_uri": "https://localhost:8080/",
     "height": 410
    },
    "id": "002fc292",
    "outputId": "09e37bd6-1e51-4afb-fe68-0179289d4a2e",
    "tags": []
   },
   "outputs": [
    {
     "data": {
      "image/png": "[encoded data removed]",
      "text/plain": [
       "<Figure size 1000x400 with 1 Axes>"
      ]
     },
     "metadata": {},
     "output_type": "display_data"
    }
   ],
   "source": [
    "plt.figure(figsize=(10, 4))\n",
    "sns.boxplot(x=df['cost'].apply(lambda x: np.log(x+1)))\n",
    "plt.title('Boxplot of Log-transformed Price')\n",
    "plt.xlabel('Log(Cost)')\n",
    "plt.show()"
   ]
  },
  {
   "cell_type": "code",
   "execution_count": 18,
   "id": "d66fda58",
   "metadata": {
    "colab": {
     "base_uri": "https://localhost:8080/",
     "height": 410
    },
    "id": "d66fda58",
    "outputId": "95b05431-7cdd-4a65-e509-bc5c6255fb87",
    "tags": []
   },
   "outputs": [
    {
     "data": {
      "image/png": "[encoded data removed]",
      "text/plain": [
       "<Figure size 1200x400 with 1 Axes>"
      ]
     },
     "metadata": {},
     "output_type": "display_data"
    }
   ],
   "source": [
    "df['Log_Cost'] = np.log1p(df['cost'])\n",
    "df['Winsorized_Log_Cost'] = winsorize(df['Log_Cost'], limits=[0.05, 0.05])\n",
    "\n",
    "plt.figure(figsize=(12, 4))\n",
    "sns.boxplot(x=df['Winsorized_Log_Cost'])\n",
    "plt.title('Boxplot of Winsorized Log Cost')\n",
    "plt.xlabel('Log(Cost)')\n",
    "plt.show()"
   ]
  },
  {
   "cell_type": "code",
   "execution_count": 19,
   "id": "4320af6b",
   "metadata": {
    "colab": {
     "base_uri": "https://localhost:8080/"
    },
    "id": "4320af6b",
    "outputId": "c0de6078-987f-4e4b-d107-2dd2ec4231df",
    "tags": []
   },
   "outputs": [
    {
     "data": {
      "text/plain": [
       "array(['North Indian, Mughlai, Chinese', 'Chinese, North Indian, Thai',\n",
       "       'Cafe, Mexican, Italian', ...,\n",
       "       'North Indian, Street Food, Biryani', 'Chinese, Mughlai',\n",
       "       'North Indian, Chinese, Arabian, Momos'], dtype=object)"
      ]
     },
     "execution_count": 19,
     "metadata": {},
     "output_type": "execute_result"
    }
   ],
   "source": [
    "df['cuisines'].unique()"
   ]
  },
  {
   "cell_type": "code",
   "execution_count": 20,
   "id": "8e31d492",
   "metadata": {
    "colab": {
     "base_uri": "https://localhost:8080/"
    },
    "id": "8e31d492",
    "outputId": "d2e58d29-ef28-4eea-f277-25a555697a27",
    "tags": []
   },
   "outputs": [
    {
     "data": {
      "text/plain": [
       "2716"
      ]
     },
     "execution_count": 20,
     "metadata": {},
     "output_type": "execute_result"
    }
   ],
   "source": [
    "len(list(df['cuisines'].unique()))"
   ]
  },
  {
   "cell_type": "code",
   "execution_count": 21,
   "id": "e18b17df",
   "metadata": {
    "id": "e18b17df",
    "tags": []
   },
   "outputs": [],
   "source": [
    "#Too many cuisines, we can vectorize it\n",
    "\n",
    "df['cuisines'] = df['cuisines'].fillna('Unknown')\n",
    "\n",
    "df['cuisine_list'] = df['cuisines'].apply(lambda x: x.split(', '))\n",
    "\n",
    "model = Word2Vec(sentences= df['cuisine_list'], vector_size=100, window=5, min_count=1, workers=4)\n",
    "\n",
    "cuisine_vectors = {cuisine: model.wv[cuisine] for cuisine in model.wv.index_to_key}\n",
    "\n",
    "df['cuisine_vector'] = df['cuisine_list'].apply(lambda cuisines: np.mean([cuisine_vectors.get(cuisine, np.zeros(100)) for cuisine in cuisines], axis=0))"
   ]
  },
  {
   "cell_type": "code",
   "execution_count": 22,
   "id": "4ae9d111",
   "metadata": {
    "colab": {
     "base_uri": "https://localhost:8080/"
    },
    "id": "4ae9d111",
    "outputId": "af6c9310-62e3-48a5-f80b-96f5b71a347f",
    "tags": []
   },
   "outputs": [
    {
     "data": {
      "text/plain": [
       "url                                0\n",
       "address                            0\n",
       "name                               0\n",
       "online_order                       0\n",
       "book_table                         0\n",
       "rate                            7681\n",
       "votes                              0\n",
       "phone                            874\n",
       "location                           0\n",
       "rest_type                        204\n",
       "dish_liked                     27868\n",
       "cuisines                           0\n",
       "approx_cost(for two people)        0\n",
       "reviews_list                       0\n",
       "menu_item                          0\n",
       "listed_in(type)                    0\n",
       "listed_in(city)                    0\n",
       "cost                               0\n",
       "converted_rating                9953\n",
       "Log_Cost                           0\n",
       "Winsorized_Log_Cost                0\n",
       "cuisine_list                       0\n",
       "cuisine_vector                     0\n",
       "dtype: int64"
      ]
     },
     "execution_count": 22,
     "metadata": {},
     "output_type": "execute_result"
    }
   ],
   "source": [
    "df.isna().sum()"
   ]
  },
  {
   "cell_type": "code",
   "execution_count": 23,
   "id": "74498c6b",
   "metadata": {
    "id": "74498c6b",
    "tags": []
   },
   "outputs": [],
   "source": [
    "#Lots of Ratings are missing, let's impute\n",
    "\n",
    "one_hot_encoder = OneHotEncoder()\n",
    "categorical_data = one_hot_encoder.fit_transform(df[['online_order', 'book_table', 'listed_in(type)', 'listed_in(city)']]).toarray()\n",
    "categorical_feature_names = one_hot_encoder.get_feature_names_out(['online_order', 'book_table', 'listed_in(type)', 'listed_in(city)'])\n",
    "\n",
    "features = np.hstack((categorical_data, df[['votes', 'Winsorized_Log_Cost']].values, df['cuisine_vector'].tolist()))\n",
    "target = df['converted_rating'].values.reshape(-1, 1)\n",
    "\n",
    "imp = IterativeImputer(estimator=LinearRegression(),random_state=0,max_iter=10,initial_strategy='mean')\n",
    "imputed_ratings = imp.fit_transform(np.hstack((target, features)))\n",
    "\n",
    "df['converted_rating'] = imputed_ratings[:, 0]"
   ]
  },
  {
   "cell_type": "code",
   "execution_count": 24,
   "id": "5e574f98",
   "metadata": {
    "colab": {
     "base_uri": "https://localhost:8080/"
    },
    "id": "5e574f98",
    "outputId": "09b07dee-be83-4912-fbd9-de84f128634a",
    "tags": []
   },
   "outputs": [
    {
     "data": {
      "text/plain": [
       "url                                0\n",
       "address                            0\n",
       "name                               0\n",
       "online_order                       0\n",
       "book_table                         0\n",
       "rate                            7681\n",
       "votes                              0\n",
       "phone                            874\n",
       "location                           0\n",
       "rest_type                        204\n",
       "dish_liked                     27868\n",
       "cuisines                           0\n",
       "approx_cost(for two people)        0\n",
       "reviews_list                       0\n",
       "menu_item                          0\n",
       "listed_in(type)                    0\n",
       "listed_in(city)                    0\n",
       "cost                               0\n",
       "converted_rating                   0\n",
       "Log_Cost                           0\n",
       "Winsorized_Log_Cost                0\n",
       "cuisine_list                       0\n",
       "cuisine_vector                     0\n",
       "dtype: int64"
      ]
     },
     "execution_count": 24,
     "metadata": {},
     "output_type": "execute_result"
    }
   ],
   "source": [
    "df.isna().sum()"
   ]
  },
  {
   "cell_type": "code",
   "execution_count": 25,
   "id": "52c2e052",
   "metadata": {
    "id": "52c2e052",
    "tags": []
   },
   "outputs": [],
   "source": [
    "df = df.drop(['url','address','name','rate','reviews_list','menu_item','phone','location','rest_type','dish_liked','approx_cost(for two people)','cost','Log_Cost','cuisine_list','cuisines'], axis = 1)"
   ]
  },
  {
   "cell_type": "code",
   "execution_count": 26,
   "id": "3a87a9b1",
   "metadata": {
    "colab": {
     "base_uri": "https://localhost:8080/",
     "height": 204
    },
    "id": "3a87a9b1",
    "outputId": "6d6c7b39-0b14-49d9-d590-dfc22d652079",
    "tags": []
   },
   "outputs": [
    {
     "data": {
      "text/html": [
       "<div>\n",
       "<style scoped>\n",
       "    .dataframe tbody tr th:only-of-type {\n",
       "        vertical-align: middle;\n",
       "    }\n",
       "\n",
       "    .dataframe tbody tr th {\n",
       "        vertical-align: top;\n",
       "    }\n",
       "\n",
       "    .dataframe thead th {\n",
       "        text-align: right;\n",
       "    }\n",
       "</style>\n",
       "<table border=\"1\" class=\"dataframe\">\n",
       "  <thead>\n",
       "    <tr style=\"text-align: right;\">\n",
       "      <th></th>\n",
       "      <th>online_order</th>\n",
       "      <th>book_table</th>\n",
       "      <th>votes</th>\n",
       "      <th>listed_in(type)</th>\n",
       "      <th>listed_in(city)</th>\n",
       "      <th>converted_rating</th>\n",
       "      <th>Winsorized_Log_Cost</th>\n",
       "      <th>cuisine_vector</th>\n",
       "    </tr>\n",
       "  </thead>\n",
       "  <tbody>\n",
       "    <tr>\n",
       "      <th>0</th>\n",
       "      <td>Yes</td>\n",
       "      <td>Yes</td>\n",
       "      <td>775</td>\n",
       "      <td>Buffet</td>\n",
       "      <td>Banashankari</td>\n",
       "      <td>4.1</td>\n",
       "      <td>6.685861</td>\n",
       "      <td>[-0.106578566, 0.09952705, -0.04808973, 0.1630...</td>\n",
       "    </tr>\n",
       "    <tr>\n",
       "      <th>1</th>\n",
       "      <td>Yes</td>\n",
       "      <td>No</td>\n",
       "      <td>787</td>\n",
       "      <td>Buffet</td>\n",
       "      <td>Banashankari</td>\n",
       "      <td>4.1</td>\n",
       "      <td>6.685861</td>\n",
       "      <td>[-0.1661128, 0.059672993, -0.03301237, 0.21210...</td>\n",
       "    </tr>\n",
       "    <tr>\n",
       "      <th>2</th>\n",
       "      <td>Yes</td>\n",
       "      <td>No</td>\n",
       "      <td>918</td>\n",
       "      <td>Buffet</td>\n",
       "      <td>Banashankari</td>\n",
       "      <td>3.8</td>\n",
       "      <td>6.685861</td>\n",
       "      <td>[-0.17971642, 0.05172697, 0.21729143, 0.278058...</td>\n",
       "    </tr>\n",
       "    <tr>\n",
       "      <th>3</th>\n",
       "      <td>No</td>\n",
       "      <td>No</td>\n",
       "      <td>88</td>\n",
       "      <td>Buffet</td>\n",
       "      <td>Banashankari</td>\n",
       "      <td>3.7</td>\n",
       "      <td>5.707110</td>\n",
       "      <td>[-0.039370086, 0.043032907, -0.08050926, 0.206...</td>\n",
       "    </tr>\n",
       "    <tr>\n",
       "      <th>4</th>\n",
       "      <td>No</td>\n",
       "      <td>No</td>\n",
       "      <td>166</td>\n",
       "      <td>Buffet</td>\n",
       "      <td>Banashankari</td>\n",
       "      <td>3.8</td>\n",
       "      <td>6.398595</td>\n",
       "      <td>[-0.03947616, 0.09066195, -0.020755937, 0.2556...</td>\n",
       "    </tr>\n",
       "  </tbody>\n",
       "</table>\n",
       "</div>"
      ],
      "text/plain": [
       "  online_order book_table  votes listed_in(type) listed_in(city)  \\\n",
       "0          Yes        Yes    775          Buffet    Banashankari   \n",
       "1          Yes         No    787          Buffet    Banashankari   \n",
       "2          Yes         No    918          Buffet    Banashankari   \n",
       "3           No         No     88          Buffet    Banashankari   \n",
       "4           No         No    166          Buffet    Banashankari   \n",
       "\n",
       "   converted_rating  Winsorized_Log_Cost  \\\n",
       "0               4.1             6.685861   \n",
       "1               4.1             6.685861   \n",
       "2               3.8             6.685861   \n",
       "3               3.7             5.707110   \n",
       "4               3.8             6.398595   \n",
       "\n",
       "                                      cuisine_vector  \n",
       "0  [-0.106578566, 0.09952705, -0.04808973, 0.1630...  \n",
       "1  [-0.1661128, 0.059672993, -0.03301237, 0.21210...  \n",
       "2  [-0.17971642, 0.05172697, 0.21729143, 0.278058...  \n",
       "3  [-0.039370086, 0.043032907, -0.08050926, 0.206...  \n",
       "4  [-0.03947616, 0.09066195, -0.020755937, 0.2556...  "
      ]
     },
     "execution_count": 26,
     "metadata": {},
     "output_type": "execute_result"
    }
   ],
   "source": [
    "df.head()"
   ]
  },
  {
   "cell_type": "code",
   "execution_count": 27,
   "id": "34445f32",
   "metadata": {
    "colab": {
     "base_uri": "https://localhost:8080/",
     "height": 333
    },
    "id": "34445f32",
    "outputId": "7f020b2e-e274-437d-83cb-f90fc7b85fd0",
    "tags": []
   },
   "outputs": [
    {
     "name": "stderr",
     "output_type": "stream",
     "text": [
      "/tmp/ipykernel_1573001/2537442134.py:2: FutureWarning: The default value of numeric_only in DataFrame.corr is deprecated. In a future version, it will default to False. Select only valid columns or specify the value of numeric_only to silence this warning.\n",
      "  sns.heatmap(df.corr(), annot=True, fmt='.2f')\n"
     ]
    },
    {
     "data": {
      "image/png": "[encoded data removed]",
      "text/plain": [
       "<Figure size 800x800 with 2 Axes>"
      ]
     },
     "metadata": {},
     "output_type": "display_data"
    }
   ],
   "source": [
    "plt.figure(figsize = (8,8))\n",
    "sns.heatmap(df.corr(), annot=True, fmt='.2f')\n",
    "plt.show()"
   ]
  },
  {
   "cell_type": "code",
   "execution_count": 28,
   "id": "557da563",
   "metadata": {
    "id": "557da563",
    "tags": []
   },
   "outputs": [
    {
     "name": "stdout",
     "output_type": "stream",
     "text": [
      "votes                  0.379518\n",
      "converted_rating       0.387113\n",
      "Winsorized_Log_Cost    1.000000\n",
      "Name: Winsorized_Log_Cost, dtype: float64\n"
     ]
    },
    {
     "name": "stderr",
     "output_type": "stream",
     "text": [
      "/tmp/ipykernel_1573001/2907905056.py:1: FutureWarning: The default value of numeric_only in DataFrame.corr is deprecated. In a future version, it will default to False. Select only valid columns or specify the value of numeric_only to silence this warning.\n",
      "  correlation_matrix = df.corr()\n"
     ]
    }
   ],
   "source": [
    "correlation_matrix = df.corr()\n",
    "target_correlations = correlation_matrix['Winsorized_Log_Cost']\n",
    "print(target_correlations)"
   ]
  },
  {
   "cell_type": "code",
   "execution_count": 29,
   "id": "3df7d950",
   "metadata": {
    "colab": {
     "base_uri": "https://localhost:8080/"
    },
    "id": "3df7d950",
    "outputId": "7e7c4a72-0312-4d0a-95e9-31577417234d",
    "tags": []
   },
   "outputs": [
    {
     "name": "stdout",
     "output_type": "stream",
     "text": [
      "Observing the categorical column disribution before encoding: \n",
      "\n",
      "online_order \n",
      "\n",
      "Yes    30444\n",
      "No     20927\n",
      "Name: online_order, dtype: int64 \n",
      "\n",
      "book_table \n",
      "\n",
      "No     44922\n",
      "Yes     6449\n",
      "Name: book_table, dtype: int64 \n",
      "\n",
      "listed_in(type) \n",
      "\n",
      "Delivery              25786\n",
      "Dine-out              17664\n",
      "Desserts               3568\n",
      "Cafes                  1703\n",
      "Drinks & nightlife     1091\n",
      "Buffet                  871\n",
      "Pubs and bars           688\n",
      "Name: listed_in(type), dtype: int64 \n",
      "\n",
      "listed_in(city) \n",
      "\n",
      "BTM                      3265\n",
      "Koramangala 7th Block    2914\n",
      "Koramangala 5th Block    2813\n",
      "Koramangala 4th Block    2752\n",
      "Koramangala 6th Block    2596\n",
      "Jayanagar                2362\n",
      "JP Nagar                 2088\n",
      "Indiranagar              1847\n",
      "Church Street            1819\n",
      "MG Road                  1788\n",
      "Brigade Road             1767\n",
      "HSR                      1734\n",
      "Lavelle Road             1732\n",
      "Marathahalli             1646\n",
      "Bannerghatta Road        1614\n",
      "Whitefield               1607\n",
      "Residency Road           1604\n",
      "Brookefield              1516\n",
      "Old Airport Road         1390\n",
      "Kammanahalli             1319\n",
      "Kalyan Nagar             1299\n",
      "Basavanagudi             1265\n",
      "Sarjapur Road            1246\n",
      "Electronic City          1225\n",
      "Bellandur                1220\n",
      "Frazer Town              1180\n",
      "Malleshwaram             1094\n",
      "Rajajinagar              1069\n",
      "Banashankari              863\n",
      "New BEL Road              737\n",
      "Name: listed_in(city), dtype: int64 \n",
      "\n"
     ]
    }
   ],
   "source": [
    "cols_cat = ['online_order','book_table','listed_in(type)','listed_in(city)']\n",
    "\n",
    "print(\"Observing the categorical column disribution before encoding: \\n\")\n",
    "for columns in cols_cat:\n",
    "    print(columns, '\\n')\n",
    "    print(df[columns].value_counts(),'\\n')"
   ]
  },
  {
   "cell_type": "code",
   "execution_count": 30,
   "id": "0288abbc",
   "metadata": {
    "colab": {
     "base_uri": "https://localhost:8080/"
    },
    "id": "0288abbc",
    "outputId": "4a98d6b1-fe6e-4686-86da-63db020f75cb",
    "tags": []
   },
   "outputs": [
    {
     "name": "stdout",
     "output_type": "stream",
     "text": [
      "Observing the categorical column disribution after encoding: \n",
      "\n",
      "online_order \n",
      "\n",
      "1    30444\n",
      "0    20927\n",
      "Name: online_order, dtype: int64 \n",
      "\n",
      "book_table \n",
      "\n",
      "0    44922\n",
      "1     6449\n",
      "Name: book_table, dtype: int64 \n",
      "\n",
      "listed_in(type) \n",
      "\n",
      "2    25786\n",
      "4    17664\n",
      "3     3568\n",
      "1     1703\n",
      "5     1091\n",
      "0      871\n",
      "6      688\n",
      "Name: listed_in(type), dtype: int64 \n",
      "\n",
      "listed_in(city) \n",
      "\n",
      "0     3265\n",
      "19    2914\n",
      "17    2813\n",
      "16    2752\n",
      "18    2596\n",
      "13    2362\n",
      "12    2088\n",
      "11    1847\n",
      "7     1819\n",
      "21    1788\n",
      "5     1767\n",
      "10    1734\n",
      "20    1732\n",
      "23    1646\n",
      "2     1614\n",
      "29    1607\n",
      "27    1604\n",
      "6     1516\n",
      "25    1390\n",
      "15    1319\n",
      "14    1299\n",
      "3     1265\n",
      "28    1246\n",
      "8     1225\n",
      "4     1220\n",
      "9     1180\n",
      "22    1094\n",
      "26    1069\n",
      "1      863\n",
      "24     737\n",
      "Name: listed_in(city), dtype: int64 \n",
      "\n"
     ]
    }
   ],
   "source": [
    "encoder = LabelEncoder()\n",
    "for columns in cols_cat:\n",
    "    df[columns] = encoder.fit_transform(df[columns])\n",
    "\n",
    "print(\"Observing the categorical column disribution after encoding: \\n\")\n",
    "for columns in cols_cat:\n",
    "    print(columns, '\\n')\n",
    "    print(df[columns].value_counts(),'\\n')"
   ]
  },
  {
   "cell_type": "code",
   "execution_count": 31,
   "id": "59e37c69",
   "metadata": {
    "id": "59e37c69",
    "tags": []
   },
   "outputs": [],
   "source": [
    "base_array = df.drop(['cuisine_vector','Winsorized_Log_Cost'], axis=1).to_numpy()\n",
    "\n",
    "cuisine_array = np.array(df['cuisine_vector'].tolist())\n",
    "\n",
    "X_reg = np.hstack((base_array, cuisine_array))"
   ]
  },
  {
   "cell_type": "code",
   "execution_count": 32,
   "id": "a2593da3",
   "metadata": {
    "colab": {
     "base_uri": "https://localhost:8080/"
    },
    "id": "a2593da3",
    "outputId": "9f4b1c84-08ec-4485-aeca-545140a158f8",
    "tags": []
   },
   "outputs": [
    {
     "data": {
      "text/plain": [
       "array([[ 1.00000000e+00,  1.00000000e+00,  7.75000000e+02, ...,\n",
       "        -7.12482482e-02, -1.56493768e-01,  6.81040287e-02],\n",
       "       [ 1.00000000e+00,  0.00000000e+00,  7.87000000e+02, ...,\n",
       "        -1.30326644e-01, -9.90939513e-02,  1.17475830e-01],\n",
       "       [ 1.00000000e+00,  0.00000000e+00,  9.18000000e+02, ...,\n",
       "         7.38181099e-02,  2.97132760e-01,  2.12293252e-01],\n",
       "       ...,\n",
       "       [ 0.00000000e+00,  0.00000000e+00,  0.00000000e+00, ...,\n",
       "         9.47659463e-02,  1.03940591e-01,  2.62875140e-01],\n",
       "       [ 0.00000000e+00,  1.00000000e+00,  2.36000000e+02, ...,\n",
       "         9.47659463e-02,  1.03940591e-01,  2.62875140e-01],\n",
       "       [ 0.00000000e+00,  0.00000000e+00,  1.30000000e+01, ...,\n",
       "        -1.38949342e-02,  1.08678840e-01,  1.93697810e-01]])"
      ]
     },
     "execution_count": 32,
     "metadata": {},
     "output_type": "execute_result"
    }
   ],
   "source": [
    "X_reg"
   ]
  },
  {
   "cell_type": "code",
   "execution_count": 33,
   "id": "622e29b7",
   "metadata": {
    "id": "622e29b7",
    "tags": []
   },
   "outputs": [],
   "source": [
    "y_reg = df['Winsorized_Log_Cost'].to_numpy()"
   ]
  },
  {
   "cell_type": "code",
   "execution_count": 34,
   "id": "fc9f4a8d",
   "metadata": {
    "colab": {
     "base_uri": "https://localhost:8080/"
    },
    "id": "fc9f4a8d",
    "outputId": "80124883-84bc-4b1a-c74a-c1b0f385f757",
    "tags": []
   },
   "outputs": [
    {
     "data": {
      "text/plain": [
       "array([6.68586095, 6.68586095, 6.68586095, ..., 7.31388683, 7.31388683,\n",
       "       7.31388683])"
      ]
     },
     "execution_count": 34,
     "metadata": {},
     "output_type": "execute_result"
    }
   ],
   "source": [
    "y_reg"
   ]
  },
  {
   "cell_type": "code",
   "execution_count": 35,
   "id": "7ee8447f",
   "metadata": {
    "id": "7ee8447f"
   },
   "outputs": [],
   "source": [
    "reg_models = {\n",
    "     'Linear Regression': LinearRegression(),\n",
    "     'Ridge Regression': Ridge(alpha=1.0),\n",
    "     'Random Forest Regression': RandomForestRegressor(n_estimators=100, random_state=42)\n",
    "}"
   ]
  },
  {
   "cell_type": "code",
   "execution_count": 36,
   "id": "530855e7",
   "metadata": {
    "id": "530855e7",
    "tags": []
   },
   "outputs": [],
   "source": [
    "def blb_regression_metrics(X, y, model, resample_size, num_subsamples, num_resamples, ci_level=0.95):\n",
    "    n = len(X)\n",
    "    metrics = {'CI Width': [], 'Coverage': [], 'Bias': [], 'MSE': []}\n",
    "    \n",
    "    for i in range(num_subsamples):\n",
    "        indices = np.random.choice(n, resample_size, replace=False)\n",
    "        X_subsample, y_subsample = X[indices], y[indices]\n",
    "        model_subsample = model.fit(X_subsample, y_subsample)\n",
    "        original_estimate = model_subsample.predict(X_subsample)\n",
    "        \n",
    "        bootstrap_estimates = np.zeros((num_resamples, resample_size))\n",
    "        for j in range(num_resamples):\n",
    "            resample_indices = np.random.choice(resample_size, resample_size, replace=True)\n",
    "            X_resample, y_resample = X_subsample[resample_indices], y_subsample[resample_indices]\n",
    "            bootstrap_estimates[j] = model_subsample.predict(X_resample)\n",
    "        \n",
    "        lower_bound = np.percentile(bootstrap_estimates, (1 - ci_level) / 2 * 100, axis=0)\n",
    "        upper_bound = np.percentile(bootstrap_estimates, (1 + ci_level) / 2 * 100, axis=0)\n",
    "        ci_width = np.mean(upper_bound - lower_bound)\n",
    "        coverage = np.mean((original_estimate >= lower_bound) & (original_estimate <= upper_bound))\n",
    "        bias = np.mean(np.mean(bootstrap_estimates, axis=0) - original_estimate)\n",
    "        mse = np.mean((bootstrap_estimates - original_estimate) ** 2)\n",
    "        \n",
    "        metrics['CI Width'].append(ci_width)\n",
    "        metrics['Coverage'].append(coverage)\n",
    "        metrics['Bias'].append(bias)\n",
    "        metrics['MSE'].append(mse)\n",
    "    \n",
    "    avg_metrics = {key: np.mean(val) for key, val in metrics.items()}\n",
    "    return avg_metrics\n",
    "\n",
    "def standard_bootstrap_reg_metrics(X, y, model, num_resamples, ci_level=0.95):\n",
    "    n = len(X)\n",
    "    bootstrap_estimates = np.zeros((num_resamples, n))\n",
    "    \n",
    "    for i in range(num_resamples):\n",
    "        resample_indices = np.random.choice(n, n, replace=True)\n",
    "        X_resample, y_resample = X[resample_indices], y[resample_indices]\n",
    "        model_resample = model.fit(X_resample, y_resample)\n",
    "        bootstrap_estimates[i] = model_resample.predict(X)\n",
    "    \n",
    "    lower_bound = np.percentile(bootstrap_estimates, (1 - ci_level) / 2 * 100, axis=0)\n",
    "    upper_bound = np.percentile(bootstrap_estimates, (1 + ci_level) / 2 * 100, axis=0)\n",
    "    ci_width = np.mean(upper_bound - lower_bound)\n",
    "    coverage = np.mean((y >= lower_bound) & (y <= upper_bound))\n",
    "    bias = np.mean(np.mean(bootstrap_estimates, axis=0) - y)\n",
    "    mse = np.mean((bootstrap_estimates - y) ** 2)\n",
    "    \n",
    "    return {'CI Width': ci_width, 'Coverage': coverage, 'Bias': bias, 'MSE': mse}"
   ]
  },
  {
   "cell_type": "code",
   "execution_count": 37,
   "id": "6j4tILqWkjEl",
   "metadata": {
    "id": "6j4tILqWkjEl",
    "tags": []
   },
   "outputs": [],
   "source": [
    "reg_comparison_results2 = {}"
   ]
  },
  {
   "cell_type": "code",
   "execution_count": 40,
   "id": "CFpxNPoHkz1H",
   "metadata": {
    "id": "CFpxNPoHkz1H",
    "tags": []
   },
   "outputs": [],
   "source": [
    "blb_metrics_lr = blb_regression_metrics(X_reg, y_reg, LinearRegression(), resample_size=100, num_subsamples=30, num_resamples=10000)\n",
    "standard_metrics_lr = standard_bootstrap_reg_metrics(X_reg, y_reg, LinearRegression(), num_resamples=10000)\n",
    "reg_comparison_results2['Linear Regression'] = {'BLB': blb_metrics_lr, 'Standard Bootstrap': standard_metrics_lr}\n",
    "\n",
    "blb_metrics_ridge = blb_regression_metrics(X_reg, y_reg, Ridge(alpha=1.0), resample_size=100, num_subsamples=30, num_resamples=10000)\n",
    "standard_metrics_ridge = standard_bootstrap_reg_metrics(X_reg, y_reg, Ridge(alpha=1.0), num_resamples=10000)\n",
    "reg_comparison_results2['Ridge Regression'] = {'BLB': blb_metrics_ridge, 'Standard Bootstrap': standard_metrics_ridge}\n",
    "\n",
    "blb_metrics_rf = blb_regression_metrics(X_reg, y_reg, RandomForestRegressor(n_estimators=50, max_depth=10, n_jobs=-1), resample_size=100, num_subsamples=30, num_resamples=10000)\n",
    "standard_metrics_rf = standard_bootstrap_reg_metrics(X_reg, y_reg, RandomForestRegressor(n_estimators=50, max_depth=10, n_jobs=-1), num_resamples=10000)\n",
    "reg_comparison_results2['Random Forest'] = {'BLB': blb_metrics_rf, 'Standard Bootstrap': standard_metrics_rf}"
   ]
  },
  {
   "cell_type": "code",
   "execution_count": 45,
   "id": "zrIz1GdMkC2G",
   "metadata": {
    "colab": {
     "base_uri": "https://localhost:8080/"
    },
    "id": "zrIz1GdMkC2G",
    "outputId": "4ee59284-f4c1-4306-9af4-3258db2778f3",
    "tags": []
   },
   "outputs": [
    {
     "data": {
      "text/plain": [
       "{'Linear Regression': {'BLB': {'CI Width': 2.1787925223890983,\n",
       "   'Coverage': 0.9600000000000002,\n",
       "   'Bias': 0.00013339542432370166,\n",
       "   'MSE': 0.6789311849983416},\n",
       "  'Standard Bootstrap': {'CI Width': 0.05023552769224856,\n",
       "   'Coverage': 0.05238364057542193,\n",
       "   'Bias': -8.689408300712784e-06,\n",
       "   'MSE': 0.15743461857489668}},\n",
       " 'Ridge Regression': {'BLB': {'CI Width': 1.793758653728949,\n",
       "   'Coverage': 0.9600000000000002,\n",
       "   'Bias': 6.392787892102744e-05,\n",
       "   'MSE': 0.422461154160948},\n",
       "  'Standard Bootstrap': {'CI Width': 0.03914953710871471,\n",
       "   'Coverage': 0.03904926904284518,\n",
       "   'Bias': 2.00968260277112e-05,\n",
       "   'MSE': 0.1617802973103233}},\n",
       " 'Random Forest': {'BLB': {'CI Width': 1.9068643572565103,\n",
       "   'Coverage': 0.9583333333333336,\n",
       "   'Bias': -2.3741691973715912e-05,\n",
       "   'MSE': 0.5195425933451341},\n",
       "  'Standard Bootstrap': {'CI Width': 0.1730522395072807,\n",
       "   'Coverage': 0.22668431605380468,\n",
       "   'Bias': -0.0003949783149690094,\n",
       "   'MSE': 0.08769722103305523}}}"
      ]
     },
     "execution_count": 45,
     "metadata": {},
     "output_type": "execute_result"
    }
   ],
   "source": [
    "reg_comparison_results2"
   ]
  },
  {
   "cell_type": "code",
   "execution_count": 46,
   "id": "4419e928",
   "metadata": {
    "colab": {
     "base_uri": "https://localhost:8080/",
     "height": 235
    },
    "id": "4419e928",
    "outputId": "45fcb103-e6c4-49f4-e4ab-3b2afd723262",
    "tags": []
   },
   "outputs": [
    {
     "data": {
      "text/html": [
       "<div>\n",
       "<style scoped>\n",
       "    .dataframe tbody tr th:only-of-type {\n",
       "        vertical-align: middle;\n",
       "    }\n",
       "\n",
       "    .dataframe tbody tr th {\n",
       "        vertical-align: top;\n",
       "    }\n",
       "\n",
       "    .dataframe thead th {\n",
       "        text-align: right;\n",
       "    }\n",
       "</style>\n",
       "<table border=\"1\" class=\"dataframe\">\n",
       "  <thead>\n",
       "    <tr style=\"text-align: right;\">\n",
       "      <th></th>\n",
       "      <th>Model</th>\n",
       "      <th>Method</th>\n",
       "      <th>CI Width</th>\n",
       "      <th>Coverage</th>\n",
       "      <th>Bias</th>\n",
       "      <th>MSE</th>\n",
       "    </tr>\n",
       "  </thead>\n",
       "  <tbody>\n",
       "    <tr>\n",
       "      <th>0</th>\n",
       "      <td>Linear Regression</td>\n",
       "      <td>BLB</td>\n",
       "      <td>2.178793</td>\n",
       "      <td>0.960000</td>\n",
       "      <td>0.000133</td>\n",
       "      <td>0.678931</td>\n",
       "    </tr>\n",
       "    <tr>\n",
       "      <th>1</th>\n",
       "      <td>Linear Regression</td>\n",
       "      <td>Standard Bootstrap</td>\n",
       "      <td>0.050236</td>\n",
       "      <td>0.052384</td>\n",
       "      <td>-0.000009</td>\n",
       "      <td>0.157435</td>\n",
       "    </tr>\n",
       "    <tr>\n",
       "      <th>2</th>\n",
       "      <td>Ridge Regression</td>\n",
       "      <td>BLB</td>\n",
       "      <td>1.793759</td>\n",
       "      <td>0.960000</td>\n",
       "      <td>0.000064</td>\n",
       "      <td>0.422461</td>\n",
       "    </tr>\n",
       "    <tr>\n",
       "      <th>3</th>\n",
       "      <td>Ridge Regression</td>\n",
       "      <td>Standard Bootstrap</td>\n",
       "      <td>0.039150</td>\n",
       "      <td>0.039049</td>\n",
       "      <td>0.000020</td>\n",
       "      <td>0.161780</td>\n",
       "    </tr>\n",
       "    <tr>\n",
       "      <th>4</th>\n",
       "      <td>Random Forest</td>\n",
       "      <td>BLB</td>\n",
       "      <td>1.906864</td>\n",
       "      <td>0.958333</td>\n",
       "      <td>-0.000024</td>\n",
       "      <td>0.519543</td>\n",
       "    </tr>\n",
       "    <tr>\n",
       "      <th>5</th>\n",
       "      <td>Random Forest</td>\n",
       "      <td>Standard Bootstrap</td>\n",
       "      <td>0.173052</td>\n",
       "      <td>0.226684</td>\n",
       "      <td>-0.000395</td>\n",
       "      <td>0.087697</td>\n",
       "    </tr>\n",
       "  </tbody>\n",
       "</table>\n",
       "</div>"
      ],
      "text/plain": [
       "               Model              Method  CI Width  Coverage      Bias  \\\n",
       "0  Linear Regression                 BLB  2.178793  0.960000  0.000133   \n",
       "1  Linear Regression  Standard Bootstrap  0.050236  0.052384 -0.000009   \n",
       "2   Ridge Regression                 BLB  1.793759  0.960000  0.000064   \n",
       "3   Ridge Regression  Standard Bootstrap  0.039150  0.039049  0.000020   \n",
       "4      Random Forest                 BLB  1.906864  0.958333 -0.000024   \n",
       "5      Random Forest  Standard Bootstrap  0.173052  0.226684 -0.000395   \n",
       "\n",
       "        MSE  \n",
       "0  0.678931  \n",
       "1  0.157435  \n",
       "2  0.422461  \n",
       "3  0.161780  \n",
       "4  0.519543  \n",
       "5  0.087697  "
      ]
     },
     "execution_count": 46,
     "metadata": {},
     "output_type": "execute_result"
    }
   ],
   "source": [
    "rows = []\n",
    "for model, methods in reg_comparison_results2.items():\n",
    "    for method, metrics in methods.items():\n",
    "        row = {'Model': model, 'Method': method}\n",
    "        row.update(metrics)\n",
    "        rows.append(row)\n",
    "\n",
    "regression_output = pd.DataFrame(rows)\n",
    "regression_output"
   ]
  },
  {
   "cell_type": "code",
   "execution_count": null,
   "id": "27a6df65",
   "metadata": {
    "id": "27a6df65"
   },
   "outputs": [],
   "source": []
  }
 ],
 "metadata": {
  "accelerator": "GPU",
  "colab": {
   "gpuType": "T4",
   "provenance": []
  },
  "kernelspec": {
   "display_name": "Python 3 (ipykernel)",
   "language": "python",
   "name": "python3"
  },
  "language_info": {
   "codemirror_mode": {
    "name": "ipython",
    "version": 3
   },
   "file_extension": ".py",
   "mimetype": "text/x-python",
   "name": "python",
   "nbconvert_exporter": "python",
   "pygments_lexer": "ipython3",
   "version": "3.10.8"
  }
 },
 "nbformat": 4,
 "nbformat_minor": 5
}
